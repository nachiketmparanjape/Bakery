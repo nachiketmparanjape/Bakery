{
 "cells": [
  {
   "cell_type": "code",
   "execution_count": 18,
   "metadata": {
    "collapsed": false
   },
   "outputs": [],
   "source": [
    "import pandas as pd\n",
    "import matplotlib.pyplot as plt\n",
    "import seaborn as sns"
   ]
  },
  {
   "cell_type": "code",
   "execution_count": 37,
   "metadata": {
    "collapsed": false
   },
   "outputs": [],
   "source": [
    "df_bakery = pd.read_csv('Hourly_bakery_data.csv')\n",
    "df_bakery['Date Time'] = pd.to_datetime(df_bakery['Date Time'])\n",
    "df_bakery['Date Time'].head()\n",
    "df_bakery['Date'] = df_bakery['Date Time'].dt.day"
   ]
  },
  {
   "cell_type": "code",
   "execution_count": 38,
   "metadata": {
    "collapsed": false
   },
   "outputs": [
    {
     "data": {
      "text/html": [
       "<div>\n",
       "<table border=\"1\" class=\"dataframe\">\n",
       "  <thead>\n",
       "    <tr style=\"text-align: right;\">\n",
       "      <th></th>\n",
       "      <th>Date Time</th>\n",
       "      <th>Hour of Day</th>\n",
       "      <th>Number_of_customers</th>\n",
       "      <th>Average_revenue_per_customer</th>\n",
       "      <th>Date</th>\n",
       "    </tr>\n",
       "  </thead>\n",
       "  <tbody>\n",
       "    <tr>\n",
       "      <th>0</th>\n",
       "      <td>2014-11-03 00:00:00</td>\n",
       "      <td>0</td>\n",
       "      <td>4</td>\n",
       "      <td>5.35</td>\n",
       "      <td>3</td>\n",
       "    </tr>\n",
       "    <tr>\n",
       "      <th>1</th>\n",
       "      <td>2014-11-03 01:00:00</td>\n",
       "      <td>1</td>\n",
       "      <td>2</td>\n",
       "      <td>3.28</td>\n",
       "      <td>3</td>\n",
       "    </tr>\n",
       "    <tr>\n",
       "      <th>2</th>\n",
       "      <td>2014-11-03 02:00:00</td>\n",
       "      <td>2</td>\n",
       "      <td>2</td>\n",
       "      <td>5.84</td>\n",
       "      <td>3</td>\n",
       "    </tr>\n",
       "    <tr>\n",
       "      <th>3</th>\n",
       "      <td>2014-11-03 03:00:00</td>\n",
       "      <td>3</td>\n",
       "      <td>3</td>\n",
       "      <td>3.56</td>\n",
       "      <td>3</td>\n",
       "    </tr>\n",
       "    <tr>\n",
       "      <th>4</th>\n",
       "      <td>2014-11-03 04:00:00</td>\n",
       "      <td>4</td>\n",
       "      <td>4</td>\n",
       "      <td>4.61</td>\n",
       "      <td>3</td>\n",
       "    </tr>\n",
       "  </tbody>\n",
       "</table>\n",
       "</div>"
      ],
      "text/plain": [
       "            Date Time  Hour of Day  Number_of_customers  \\\n",
       "0 2014-11-03 00:00:00            0                    4   \n",
       "1 2014-11-03 01:00:00            1                    2   \n",
       "2 2014-11-03 02:00:00            2                    2   \n",
       "3 2014-11-03 03:00:00            3                    3   \n",
       "4 2014-11-03 04:00:00            4                    4   \n",
       "\n",
       "   Average_revenue_per_customer  Date  \n",
       "0                          5.35     3  \n",
       "1                          3.28     3  \n",
       "2                          5.84     3  \n",
       "3                          3.56     3  \n",
       "4                          4.61     3  "
      ]
     },
     "execution_count": 38,
     "metadata": {},
     "output_type": "execute_result"
    }
   ],
   "source": [
    "df_bakery.head()"
   ]
  },
  {
   "cell_type": "code",
   "execution_count": 39,
   "metadata": {
    "collapsed": false
   },
   "outputs": [
    {
     "data": {
      "text/html": [
       "<div>\n",
       "<table border=\"1\" class=\"dataframe\">\n",
       "  <thead>\n",
       "    <tr style=\"text-align: right;\">\n",
       "      <th></th>\n",
       "      <th>Date Time</th>\n",
       "      <th>Hour of Day</th>\n",
       "      <th>Number_of_customers</th>\n",
       "      <th>Average_revenue_per_customer</th>\n",
       "      <th>Date</th>\n",
       "      <th>Total_Revenue</th>\n",
       "      <th>Profit</th>\n",
       "    </tr>\n",
       "  </thead>\n",
       "  <tbody>\n",
       "    <tr>\n",
       "      <th>0</th>\n",
       "      <td>2014-11-03 00:00:00</td>\n",
       "      <td>0</td>\n",
       "      <td>4</td>\n",
       "      <td>5.35</td>\n",
       "      <td>3</td>\n",
       "      <td>21.40</td>\n",
       "      <td>-15.020</td>\n",
       "    </tr>\n",
       "    <tr>\n",
       "      <th>1</th>\n",
       "      <td>2014-11-03 01:00:00</td>\n",
       "      <td>1</td>\n",
       "      <td>2</td>\n",
       "      <td>3.28</td>\n",
       "      <td>3</td>\n",
       "      <td>6.56</td>\n",
       "      <td>-25.408</td>\n",
       "    </tr>\n",
       "    <tr>\n",
       "      <th>2</th>\n",
       "      <td>2014-11-03 02:00:00</td>\n",
       "      <td>2</td>\n",
       "      <td>2</td>\n",
       "      <td>5.84</td>\n",
       "      <td>3</td>\n",
       "      <td>11.68</td>\n",
       "      <td>-21.824</td>\n",
       "    </tr>\n",
       "    <tr>\n",
       "      <th>3</th>\n",
       "      <td>2014-11-03 03:00:00</td>\n",
       "      <td>3</td>\n",
       "      <td>3</td>\n",
       "      <td>3.56</td>\n",
       "      <td>3</td>\n",
       "      <td>10.68</td>\n",
       "      <td>-22.524</td>\n",
       "    </tr>\n",
       "    <tr>\n",
       "      <th>4</th>\n",
       "      <td>2014-11-03 04:00:00</td>\n",
       "      <td>4</td>\n",
       "      <td>4</td>\n",
       "      <td>4.61</td>\n",
       "      <td>3</td>\n",
       "      <td>18.44</td>\n",
       "      <td>-17.092</td>\n",
       "    </tr>\n",
       "  </tbody>\n",
       "</table>\n",
       "</div>"
      ],
      "text/plain": [
       "            Date Time  Hour of Day  Number_of_customers  \\\n",
       "0 2014-11-03 00:00:00            0                    4   \n",
       "1 2014-11-03 01:00:00            1                    2   \n",
       "2 2014-11-03 02:00:00            2                    2   \n",
       "3 2014-11-03 03:00:00            3                    3   \n",
       "4 2014-11-03 04:00:00            4                    4   \n",
       "\n",
       "   Average_revenue_per_customer  Date  Total_Revenue  Profit  \n",
       "0                          5.35     3          21.40 -15.020  \n",
       "1                          3.28     3           6.56 -25.408  \n",
       "2                          5.84     3          11.68 -21.824  \n",
       "3                          3.56     3          10.68 -22.524  \n",
       "4                          4.61     3          18.44 -17.092  "
      ]
     },
     "execution_count": 39,
     "metadata": {},
     "output_type": "execute_result"
    }
   ],
   "source": [
    "df_bakery['Total_Revenue'] = df_bakery['Number_of_customers']*df_bakery['Average_revenue_per_customer']\n",
    "df_bakery['Profit'] = (0.7*df_bakery['Total_Revenue'] - 10 - 20)\n",
    "df_bakery.head()"
   ]
  },
  {
   "cell_type": "code",
   "execution_count": 40,
   "metadata": {
    "collapsed": false
   },
   "outputs": [
    {
     "data": {
      "text/html": [
       "<div>\n",
       "<table border=\"1\" class=\"dataframe\">\n",
       "  <thead>\n",
       "    <tr style=\"text-align: right;\">\n",
       "      <th></th>\n",
       "      <th>Number_of_customers</th>\n",
       "      <th>Average_revenue_per_customer</th>\n",
       "      <th>Date</th>\n",
       "      <th>Total_Revenue</th>\n",
       "      <th>Profit</th>\n",
       "    </tr>\n",
       "    <tr>\n",
       "      <th>Hour of Day</th>\n",
       "      <th></th>\n",
       "      <th></th>\n",
       "      <th></th>\n",
       "      <th></th>\n",
       "      <th></th>\n",
       "    </tr>\n",
       "  </thead>\n",
       "  <tbody>\n",
       "    <tr>\n",
       "      <th>0</th>\n",
       "      <td>3.0</td>\n",
       "      <td>2.778</td>\n",
       "      <td>5.0</td>\n",
       "      <td>8.832</td>\n",
       "      <td>-23.8176</td>\n",
       "    </tr>\n",
       "    <tr>\n",
       "      <th>1</th>\n",
       "      <td>2.2</td>\n",
       "      <td>3.632</td>\n",
       "      <td>5.0</td>\n",
       "      <td>8.212</td>\n",
       "      <td>-24.2516</td>\n",
       "    </tr>\n",
       "    <tr>\n",
       "      <th>2</th>\n",
       "      <td>2.0</td>\n",
       "      <td>4.308</td>\n",
       "      <td>5.0</td>\n",
       "      <td>7.992</td>\n",
       "      <td>-24.4056</td>\n",
       "    </tr>\n",
       "    <tr>\n",
       "      <th>3</th>\n",
       "      <td>3.0</td>\n",
       "      <td>3.452</td>\n",
       "      <td>5.0</td>\n",
       "      <td>10.004</td>\n",
       "      <td>-22.9972</td>\n",
       "    </tr>\n",
       "    <tr>\n",
       "      <th>4</th>\n",
       "      <td>4.2</td>\n",
       "      <td>4.194</td>\n",
       "      <td>5.0</td>\n",
       "      <td>18.980</td>\n",
       "      <td>-16.7140</td>\n",
       "    </tr>\n",
       "    <tr>\n",
       "      <th>5</th>\n",
       "      <td>16.0</td>\n",
       "      <td>3.944</td>\n",
       "      <td>5.0</td>\n",
       "      <td>64.110</td>\n",
       "      <td>14.8770</td>\n",
       "    </tr>\n",
       "    <tr>\n",
       "      <th>6</th>\n",
       "      <td>27.2</td>\n",
       "      <td>4.894</td>\n",
       "      <td>5.0</td>\n",
       "      <td>132.362</td>\n",
       "      <td>62.6534</td>\n",
       "    </tr>\n",
       "    <tr>\n",
       "      <th>7</th>\n",
       "      <td>53.2</td>\n",
       "      <td>5.326</td>\n",
       "      <td>5.0</td>\n",
       "      <td>284.224</td>\n",
       "      <td>168.9568</td>\n",
       "    </tr>\n",
       "    <tr>\n",
       "      <th>8</th>\n",
       "      <td>62.4</td>\n",
       "      <td>5.474</td>\n",
       "      <td>5.0</td>\n",
       "      <td>341.212</td>\n",
       "      <td>208.8484</td>\n",
       "    </tr>\n",
       "    <tr>\n",
       "      <th>9</th>\n",
       "      <td>41.2</td>\n",
       "      <td>5.600</td>\n",
       "      <td>5.0</td>\n",
       "      <td>229.980</td>\n",
       "      <td>130.9860</td>\n",
       "    </tr>\n",
       "    <tr>\n",
       "      <th>10</th>\n",
       "      <td>45.6</td>\n",
       "      <td>4.952</td>\n",
       "      <td>5.0</td>\n",
       "      <td>225.156</td>\n",
       "      <td>127.6092</td>\n",
       "    </tr>\n",
       "    <tr>\n",
       "      <th>11</th>\n",
       "      <td>35.0</td>\n",
       "      <td>4.310</td>\n",
       "      <td>5.0</td>\n",
       "      <td>150.904</td>\n",
       "      <td>75.6328</td>\n",
       "    </tr>\n",
       "    <tr>\n",
       "      <th>12</th>\n",
       "      <td>25.8</td>\n",
       "      <td>4.324</td>\n",
       "      <td>5.0</td>\n",
       "      <td>113.590</td>\n",
       "      <td>49.5130</td>\n",
       "    </tr>\n",
       "    <tr>\n",
       "      <th>13</th>\n",
       "      <td>24.0</td>\n",
       "      <td>3.646</td>\n",
       "      <td>5.0</td>\n",
       "      <td>87.724</td>\n",
       "      <td>31.4068</td>\n",
       "    </tr>\n",
       "    <tr>\n",
       "      <th>14</th>\n",
       "      <td>29.4</td>\n",
       "      <td>3.860</td>\n",
       "      <td>5.0</td>\n",
       "      <td>110.494</td>\n",
       "      <td>47.3458</td>\n",
       "    </tr>\n",
       "    <tr>\n",
       "      <th>15</th>\n",
       "      <td>36.4</td>\n",
       "      <td>4.402</td>\n",
       "      <td>5.0</td>\n",
       "      <td>157.970</td>\n",
       "      <td>80.5790</td>\n",
       "    </tr>\n",
       "    <tr>\n",
       "      <th>16</th>\n",
       "      <td>28.6</td>\n",
       "      <td>3.976</td>\n",
       "      <td>5.0</td>\n",
       "      <td>114.756</td>\n",
       "      <td>50.3292</td>\n",
       "    </tr>\n",
       "    <tr>\n",
       "      <th>17</th>\n",
       "      <td>24.0</td>\n",
       "      <td>3.784</td>\n",
       "      <td>5.0</td>\n",
       "      <td>90.874</td>\n",
       "      <td>33.6118</td>\n",
       "    </tr>\n",
       "    <tr>\n",
       "      <th>18</th>\n",
       "      <td>17.0</td>\n",
       "      <td>3.218</td>\n",
       "      <td>5.0</td>\n",
       "      <td>54.916</td>\n",
       "      <td>8.4412</td>\n",
       "    </tr>\n",
       "    <tr>\n",
       "      <th>19</th>\n",
       "      <td>17.8</td>\n",
       "      <td>4.572</td>\n",
       "      <td>5.0</td>\n",
       "      <td>81.068</td>\n",
       "      <td>26.7476</td>\n",
       "    </tr>\n",
       "    <tr>\n",
       "      <th>20</th>\n",
       "      <td>9.6</td>\n",
       "      <td>3.880</td>\n",
       "      <td>5.0</td>\n",
       "      <td>39.394</td>\n",
       "      <td>-2.4242</td>\n",
       "    </tr>\n",
       "    <tr>\n",
       "      <th>21</th>\n",
       "      <td>9.2</td>\n",
       "      <td>4.524</td>\n",
       "      <td>5.0</td>\n",
       "      <td>42.430</td>\n",
       "      <td>-0.2990</td>\n",
       "    </tr>\n",
       "    <tr>\n",
       "      <th>22</th>\n",
       "      <td>6.8</td>\n",
       "      <td>3.892</td>\n",
       "      <td>5.0</td>\n",
       "      <td>29.074</td>\n",
       "      <td>-9.6482</td>\n",
       "    </tr>\n",
       "    <tr>\n",
       "      <th>23</th>\n",
       "      <td>5.2</td>\n",
       "      <td>4.454</td>\n",
       "      <td>5.0</td>\n",
       "      <td>23.502</td>\n",
       "      <td>-13.5486</td>\n",
       "    </tr>\n",
       "  </tbody>\n",
       "</table>\n",
       "</div>"
      ],
      "text/plain": [
       "             Number_of_customers  Average_revenue_per_customer  Date  \\\n",
       "Hour of Day                                                            \n",
       "0                            3.0                         2.778   5.0   \n",
       "1                            2.2                         3.632   5.0   \n",
       "2                            2.0                         4.308   5.0   \n",
       "3                            3.0                         3.452   5.0   \n",
       "4                            4.2                         4.194   5.0   \n",
       "5                           16.0                         3.944   5.0   \n",
       "6                           27.2                         4.894   5.0   \n",
       "7                           53.2                         5.326   5.0   \n",
       "8                           62.4                         5.474   5.0   \n",
       "9                           41.2                         5.600   5.0   \n",
       "10                          45.6                         4.952   5.0   \n",
       "11                          35.0                         4.310   5.0   \n",
       "12                          25.8                         4.324   5.0   \n",
       "13                          24.0                         3.646   5.0   \n",
       "14                          29.4                         3.860   5.0   \n",
       "15                          36.4                         4.402   5.0   \n",
       "16                          28.6                         3.976   5.0   \n",
       "17                          24.0                         3.784   5.0   \n",
       "18                          17.0                         3.218   5.0   \n",
       "19                          17.8                         4.572   5.0   \n",
       "20                           9.6                         3.880   5.0   \n",
       "21                           9.2                         4.524   5.0   \n",
       "22                           6.8                         3.892   5.0   \n",
       "23                           5.2                         4.454   5.0   \n",
       "\n",
       "             Total_Revenue    Profit  \n",
       "Hour of Day                           \n",
       "0                    8.832  -23.8176  \n",
       "1                    8.212  -24.2516  \n",
       "2                    7.992  -24.4056  \n",
       "3                   10.004  -22.9972  \n",
       "4                   18.980  -16.7140  \n",
       "5                   64.110   14.8770  \n",
       "6                  132.362   62.6534  \n",
       "7                  284.224  168.9568  \n",
       "8                  341.212  208.8484  \n",
       "9                  229.980  130.9860  \n",
       "10                 225.156  127.6092  \n",
       "11                 150.904   75.6328  \n",
       "12                 113.590   49.5130  \n",
       "13                  87.724   31.4068  \n",
       "14                 110.494   47.3458  \n",
       "15                 157.970   80.5790  \n",
       "16                 114.756   50.3292  \n",
       "17                  90.874   33.6118  \n",
       "18                  54.916    8.4412  \n",
       "19                  81.068   26.7476  \n",
       "20                  39.394   -2.4242  \n",
       "21                  42.430   -0.2990  \n",
       "22                  29.074   -9.6482  \n",
       "23                  23.502  -13.5486  "
      ]
     },
     "execution_count": 40,
     "metadata": {},
     "output_type": "execute_result"
    }
   ],
   "source": [
    "#Analysing per hour\n",
    "\n",
    "group = df_bakery.groupby(['Hour of Day']).mean()\n",
    "group"
   ]
  },
  {
   "cell_type": "code",
   "execution_count": 41,
   "metadata": {
    "collapsed": false
   },
   "outputs": [
    {
     "data": {
      "image/png": "[encoded data removed]",
      "text/plain": [
       "<matplotlib.figure.Figure at 0x95ca5c0>"
      ]
     },
     "metadata": {},
     "output_type": "display_data"
    }
   ],
   "source": [
    "%matplotlib inline\n",
    "\n",
    "group.plot(y= [\"Number_of_customers\"])\n",
    "plt.savefig(\"Customers_per_Hour\")"
   ]
  },
  {
   "cell_type": "code",
   "execution_count": 42,
   "metadata": {
    "collapsed": false
   },
   "outputs": [
    {
     "data": {
      "image/png": "[encoded data removed]",
      "text/plain": [
       "<matplotlib.figure.Figure at 0xa5c2400>"
      ]
     },
     "metadata": {},
     "output_type": "display_data"
    }
   ],
   "source": [
    "group.plot(y= [\"Total_Revenue\"],color='red')\n",
    "plt.savefig(\"Revenue_per_Hour\")"
   ]
  },
  {
   "cell_type": "code",
   "execution_count": 43,
   "metadata": {
    "collapsed": false
   },
   "outputs": [
    {
     "data": {
      "image/png": "[encoded data removed]",
      "text/plain": [
       "<matplotlib.figure.Figure at 0xa4b9eb8>"
      ]
     },
     "metadata": {},
     "output_type": "display_data"
    }
   ],
   "source": [
    "group.plot(y= [\"Average_revenue_per_customer\"],color='black')\n",
    "plt.savefig(\"Revenue_Per_Customer_Hourly\")"
   ]
  },
  {
   "cell_type": "code",
   "execution_count": 44,
   "metadata": {
    "collapsed": false
   },
   "outputs": [],
   "source": [
    "total = group[\"Total_Revenue\"].sum()"
   ]
  },
  {
   "cell_type": "code",
   "execution_count": 45,
   "metadata": {
    "collapsed": false
   },
   "outputs": [
    {
     "data": {
      "text/plain": [
       "0.04567914456124164"
      ]
     },
     "execution_count": 45,
     "metadata": {},
     "output_type": "execute_result"
    }
   ],
   "source": [
    "peak = group[\"Total_Revenue\"][20:23].sum()\n",
    "\n",
    "pct = peak/total\n",
    "pct"
   ]
  },
  {
   "cell_type": "code",
   "execution_count": 46,
   "metadata": {
    "collapsed": false
   },
   "outputs": [
    {
     "data": {
      "text/plain": [
       "208.84839999999994"
      ]
     },
     "execution_count": 46,
     "metadata": {},
     "output_type": "execute_result"
    }
   ],
   "source": [
    "max_profit = group[\"Profit\"].max()\n",
    "max_profit"
   ]
  },
  {
   "cell_type": "code",
   "execution_count": 47,
   "metadata": {
    "collapsed": false
   },
   "outputs": [
    {
     "data": {
      "text/html": [
       "<div>\n",
       "<table border=\"1\" class=\"dataframe\">\n",
       "  <thead>\n",
       "    <tr style=\"text-align: right;\">\n",
       "      <th></th>\n",
       "      <th>Number_of_customers</th>\n",
       "      <th>Average_revenue_per_customer</th>\n",
       "      <th>Date</th>\n",
       "      <th>Total_Revenue</th>\n",
       "      <th>Profit</th>\n",
       "    </tr>\n",
       "    <tr>\n",
       "      <th>Hour of Day</th>\n",
       "      <th></th>\n",
       "      <th></th>\n",
       "      <th></th>\n",
       "      <th></th>\n",
       "      <th></th>\n",
       "    </tr>\n",
       "  </thead>\n",
       "  <tbody>\n",
       "    <tr>\n",
       "      <th>0</th>\n",
       "      <td>3.0</td>\n",
       "      <td>2.778</td>\n",
       "      <td>5.0</td>\n",
       "      <td>8.832</td>\n",
       "      <td>-23.8176</td>\n",
       "    </tr>\n",
       "    <tr>\n",
       "      <th>1</th>\n",
       "      <td>2.2</td>\n",
       "      <td>3.632</td>\n",
       "      <td>5.0</td>\n",
       "      <td>8.212</td>\n",
       "      <td>-24.2516</td>\n",
       "    </tr>\n",
       "    <tr>\n",
       "      <th>2</th>\n",
       "      <td>2.0</td>\n",
       "      <td>4.308</td>\n",
       "      <td>5.0</td>\n",
       "      <td>7.992</td>\n",
       "      <td>-24.4056</td>\n",
       "    </tr>\n",
       "    <tr>\n",
       "      <th>3</th>\n",
       "      <td>3.0</td>\n",
       "      <td>3.452</td>\n",
       "      <td>5.0</td>\n",
       "      <td>10.004</td>\n",
       "      <td>-22.9972</td>\n",
       "    </tr>\n",
       "    <tr>\n",
       "      <th>4</th>\n",
       "      <td>4.2</td>\n",
       "      <td>4.194</td>\n",
       "      <td>5.0</td>\n",
       "      <td>18.980</td>\n",
       "      <td>-16.7140</td>\n",
       "    </tr>\n",
       "    <tr>\n",
       "      <th>5</th>\n",
       "      <td>16.0</td>\n",
       "      <td>3.944</td>\n",
       "      <td>5.0</td>\n",
       "      <td>64.110</td>\n",
       "      <td>14.8770</td>\n",
       "    </tr>\n",
       "    <tr>\n",
       "      <th>6</th>\n",
       "      <td>27.2</td>\n",
       "      <td>4.894</td>\n",
       "      <td>5.0</td>\n",
       "      <td>132.362</td>\n",
       "      <td>62.6534</td>\n",
       "    </tr>\n",
       "    <tr>\n",
       "      <th>7</th>\n",
       "      <td>53.2</td>\n",
       "      <td>5.326</td>\n",
       "      <td>5.0</td>\n",
       "      <td>284.224</td>\n",
       "      <td>168.9568</td>\n",
       "    </tr>\n",
       "    <tr>\n",
       "      <th>8</th>\n",
       "      <td>62.4</td>\n",
       "      <td>5.474</td>\n",
       "      <td>5.0</td>\n",
       "      <td>341.212</td>\n",
       "      <td>208.8484</td>\n",
       "    </tr>\n",
       "    <tr>\n",
       "      <th>9</th>\n",
       "      <td>41.2</td>\n",
       "      <td>5.600</td>\n",
       "      <td>5.0</td>\n",
       "      <td>229.980</td>\n",
       "      <td>130.9860</td>\n",
       "    </tr>\n",
       "    <tr>\n",
       "      <th>10</th>\n",
       "      <td>45.6</td>\n",
       "      <td>4.952</td>\n",
       "      <td>5.0</td>\n",
       "      <td>225.156</td>\n",
       "      <td>127.6092</td>\n",
       "    </tr>\n",
       "    <tr>\n",
       "      <th>11</th>\n",
       "      <td>35.0</td>\n",
       "      <td>4.310</td>\n",
       "      <td>5.0</td>\n",
       "      <td>150.904</td>\n",
       "      <td>75.6328</td>\n",
       "    </tr>\n",
       "    <tr>\n",
       "      <th>12</th>\n",
       "      <td>25.8</td>\n",
       "      <td>4.324</td>\n",
       "      <td>5.0</td>\n",
       "      <td>113.590</td>\n",
       "      <td>49.5130</td>\n",
       "    </tr>\n",
       "    <tr>\n",
       "      <th>13</th>\n",
       "      <td>24.0</td>\n",
       "      <td>3.646</td>\n",
       "      <td>5.0</td>\n",
       "      <td>87.724</td>\n",
       "      <td>31.4068</td>\n",
       "    </tr>\n",
       "    <tr>\n",
       "      <th>14</th>\n",
       "      <td>29.4</td>\n",
       "      <td>3.860</td>\n",
       "      <td>5.0</td>\n",
       "      <td>110.494</td>\n",
       "      <td>47.3458</td>\n",
       "    </tr>\n",
       "    <tr>\n",
       "      <th>15</th>\n",
       "      <td>36.4</td>\n",
       "      <td>4.402</td>\n",
       "      <td>5.0</td>\n",
       "      <td>157.970</td>\n",
       "      <td>80.5790</td>\n",
       "    </tr>\n",
       "    <tr>\n",
       "      <th>16</th>\n",
       "      <td>28.6</td>\n",
       "      <td>3.976</td>\n",
       "      <td>5.0</td>\n",
       "      <td>114.756</td>\n",
       "      <td>50.3292</td>\n",
       "    </tr>\n",
       "    <tr>\n",
       "      <th>17</th>\n",
       "      <td>24.0</td>\n",
       "      <td>3.784</td>\n",
       "      <td>5.0</td>\n",
       "      <td>90.874</td>\n",
       "      <td>33.6118</td>\n",
       "    </tr>\n",
       "    <tr>\n",
       "      <th>18</th>\n",
       "      <td>17.0</td>\n",
       "      <td>3.218</td>\n",
       "      <td>5.0</td>\n",
       "      <td>54.916</td>\n",
       "      <td>8.4412</td>\n",
       "    </tr>\n",
       "    <tr>\n",
       "      <th>19</th>\n",
       "      <td>17.8</td>\n",
       "      <td>4.572</td>\n",
       "      <td>5.0</td>\n",
       "      <td>81.068</td>\n",
       "      <td>26.7476</td>\n",
       "    </tr>\n",
       "    <tr>\n",
       "      <th>20</th>\n",
       "      <td>9.6</td>\n",
       "      <td>3.880</td>\n",
       "      <td>5.0</td>\n",
       "      <td>39.394</td>\n",
       "      <td>-2.4242</td>\n",
       "    </tr>\n",
       "    <tr>\n",
       "      <th>21</th>\n",
       "      <td>9.2</td>\n",
       "      <td>4.524</td>\n",
       "      <td>5.0</td>\n",
       "      <td>42.430</td>\n",
       "      <td>-0.2990</td>\n",
       "    </tr>\n",
       "    <tr>\n",
       "      <th>22</th>\n",
       "      <td>6.8</td>\n",
       "      <td>3.892</td>\n",
       "      <td>5.0</td>\n",
       "      <td>29.074</td>\n",
       "      <td>-9.6482</td>\n",
       "    </tr>\n",
       "    <tr>\n",
       "      <th>23</th>\n",
       "      <td>5.2</td>\n",
       "      <td>4.454</td>\n",
       "      <td>5.0</td>\n",
       "      <td>23.502</td>\n",
       "      <td>-13.5486</td>\n",
       "    </tr>\n",
       "  </tbody>\n",
       "</table>\n",
       "</div>"
      ],
      "text/plain": [
       "             Number_of_customers  Average_revenue_per_customer  Date  \\\n",
       "Hour of Day                                                            \n",
       "0                            3.0                         2.778   5.0   \n",
       "1                            2.2                         3.632   5.0   \n",
       "2                            2.0                         4.308   5.0   \n",
       "3                            3.0                         3.452   5.0   \n",
       "4                            4.2                         4.194   5.0   \n",
       "5                           16.0                         3.944   5.0   \n",
       "6                           27.2                         4.894   5.0   \n",
       "7                           53.2                         5.326   5.0   \n",
       "8                           62.4                         5.474   5.0   \n",
       "9                           41.2                         5.600   5.0   \n",
       "10                          45.6                         4.952   5.0   \n",
       "11                          35.0                         4.310   5.0   \n",
       "12                          25.8                         4.324   5.0   \n",
       "13                          24.0                         3.646   5.0   \n",
       "14                          29.4                         3.860   5.0   \n",
       "15                          36.4                         4.402   5.0   \n",
       "16                          28.6                         3.976   5.0   \n",
       "17                          24.0                         3.784   5.0   \n",
       "18                          17.0                         3.218   5.0   \n",
       "19                          17.8                         4.572   5.0   \n",
       "20                           9.6                         3.880   5.0   \n",
       "21                           9.2                         4.524   5.0   \n",
       "22                           6.8                         3.892   5.0   \n",
       "23                           5.2                         4.454   5.0   \n",
       "\n",
       "             Total_Revenue    Profit  \n",
       "Hour of Day                           \n",
       "0                    8.832  -23.8176  \n",
       "1                    8.212  -24.2516  \n",
       "2                    7.992  -24.4056  \n",
       "3                   10.004  -22.9972  \n",
       "4                   18.980  -16.7140  \n",
       "5                   64.110   14.8770  \n",
       "6                  132.362   62.6534  \n",
       "7                  284.224  168.9568  \n",
       "8                  341.212  208.8484  \n",
       "9                  229.980  130.9860  \n",
       "10                 225.156  127.6092  \n",
       "11                 150.904   75.6328  \n",
       "12                 113.590   49.5130  \n",
       "13                  87.724   31.4068  \n",
       "14                 110.494   47.3458  \n",
       "15                 157.970   80.5790  \n",
       "16                 114.756   50.3292  \n",
       "17                  90.874   33.6118  \n",
       "18                  54.916    8.4412  \n",
       "19                  81.068   26.7476  \n",
       "20                  39.394   -2.4242  \n",
       "21                  42.430   -0.2990  \n",
       "22                  29.074   -9.6482  \n",
       "23                  23.502  -13.5486  "
      ]
     },
     "execution_count": 47,
     "metadata": {},
     "output_type": "execute_result"
    }
   ],
   "source": [
    "group"
   ]
  },
  {
   "cell_type": "code",
   "execution_count": 48,
   "metadata": {
    "collapsed": false
   },
   "outputs": [
    {
     "data": {
      "image/png": "[encoded data removed]",
      "text/plain": [
       "<matplotlib.figure.Figure at 0xa73e9b0>"
      ]
     },
     "metadata": {},
     "output_type": "display_data"
    }
   ],
   "source": [
    "group.plot(y=\"Profit\")\n",
    "plt.savefig(\"Profit!\")"
   ]
  },
  {
   "cell_type": "code",
   "execution_count": 64,
   "metadata": {
    "collapsed": false
   },
   "outputs": [
    {
     "data": {
      "text/html": [
       "<div>\n",
       "<table border=\"1\" class=\"dataframe\">\n",
       "  <thead>\n",
       "    <tr style=\"text-align: right;\">\n",
       "      <th></th>\n",
       "      <th>Hour of Day</th>\n",
       "      <th>Number_of_customers</th>\n",
       "      <th>Average_revenue_per_customer</th>\n",
       "      <th>Total_Revenue</th>\n",
       "      <th>Profit</th>\n",
       "    </tr>\n",
       "    <tr>\n",
       "      <th>Date</th>\n",
       "      <th></th>\n",
       "      <th></th>\n",
       "      <th></th>\n",
       "      <th></th>\n",
       "      <th></th>\n",
       "    </tr>\n",
       "  </thead>\n",
       "  <tbody>\n",
       "    <tr>\n",
       "      <th>3</th>\n",
       "      <td>276</td>\n",
       "      <td>502</td>\n",
       "      <td>106.79</td>\n",
       "      <td>2311.43</td>\n",
       "      <td>898.001</td>\n",
       "    </tr>\n",
       "    <tr>\n",
       "      <th>4</th>\n",
       "      <td>276</td>\n",
       "      <td>530</td>\n",
       "      <td>95.75</td>\n",
       "      <td>2451.18</td>\n",
       "      <td>995.826</td>\n",
       "    </tr>\n",
       "    <tr>\n",
       "      <th>5</th>\n",
       "      <td>276</td>\n",
       "      <td>521</td>\n",
       "      <td>94.34</td>\n",
       "      <td>2388.92</td>\n",
       "      <td>952.244</td>\n",
       "    </tr>\n",
       "    <tr>\n",
       "      <th>6</th>\n",
       "      <td>276</td>\n",
       "      <td>548</td>\n",
       "      <td>102.45</td>\n",
       "      <td>2449.63</td>\n",
       "      <td>994.741</td>\n",
       "    </tr>\n",
       "    <tr>\n",
       "      <th>7</th>\n",
       "      <td>276</td>\n",
       "      <td>543</td>\n",
       "      <td>107.65</td>\n",
       "      <td>2537.64</td>\n",
       "      <td>1056.348</td>\n",
       "    </tr>\n",
       "  </tbody>\n",
       "</table>\n",
       "</div>"
      ],
      "text/plain": [
       "      Hour of Day  Number_of_customers  Average_revenue_per_customer  \\\n",
       "Date                                                                   \n",
       "3             276                  502                        106.79   \n",
       "4             276                  530                         95.75   \n",
       "5             276                  521                         94.34   \n",
       "6             276                  548                        102.45   \n",
       "7             276                  543                        107.65   \n",
       "\n",
       "      Total_Revenue    Profit  \n",
       "Date                           \n",
       "3           2311.43   898.001  \n",
       "4           2451.18   995.826  \n",
       "5           2388.92   952.244  \n",
       "6           2449.63   994.741  \n",
       "7           2537.64  1056.348  "
      ]
     },
     "execution_count": 64,
     "metadata": {},
     "output_type": "execute_result"
    }
   ],
   "source": [
    "#Visualizing the Data With Date!!\n",
    "\n",
    "day = df_bakery.groupby(['Date']).sum()\n",
    "day"
   ]
  },
  {
   "cell_type": "code",
   "execution_count": 66,
   "metadata": {
    "collapsed": false
   },
   "outputs": [
    {
     "data": {
      "image/png": "[encoded data removed]",
      "text/plain": [
       "<matplotlib.figure.Figure at 0xbe572e8>"
      ]
     },
     "metadata": {},
     "output_type": "display_data"
    }
   ],
   "source": [
    "day.plot(y=['Total_Revenue','Profit'],kind='bar')\n",
    "plt.savefig(\"Revenue_and_Profit_per_day\")"
   ]
  },
  {
   "cell_type": "code",
   "execution_count": 59,
   "metadata": {
    "collapsed": false
   },
   "outputs": [
    {
     "data": {
      "image/png": "[encoded data removed]",
      "text/plain": [
       "<matplotlib.figure.Figure at 0xa0c0b70>"
      ]
     },
     "metadata": {},
     "output_type": "display_data"
    }
   ],
   "source": [
    "day.plot(y=['Number_of_customers'])\n",
    "plt.savefig(\"Customers_per_day\")"
   ]
  },
  {
   "cell_type": "code",
   "execution_count": 67,
   "metadata": {
    "collapsed": false
   },
   "outputs": [
    {
     "data": {
      "text/html": [
       "<div>\n",
       "<table border=\"1\" class=\"dataframe\">\n",
       "  <thead>\n",
       "    <tr style=\"text-align: right;\">\n",
       "      <th></th>\n",
       "      <th></th>\n",
       "      <th>Number_of_customers</th>\n",
       "      <th>Average_revenue_per_customer</th>\n",
       "      <th>Total_Revenue</th>\n",
       "      <th>Profit</th>\n",
       "    </tr>\n",
       "    <tr>\n",
       "      <th>Date</th>\n",
       "      <th>Hour of Day</th>\n",
       "      <th></th>\n",
       "      <th></th>\n",
       "      <th></th>\n",
       "      <th></th>\n",
       "    </tr>\n",
       "  </thead>\n",
       "  <tbody>\n",
       "    <tr>\n",
       "      <th rowspan=\"5\" valign=\"top\">3</th>\n",
       "      <th>0</th>\n",
       "      <td>4</td>\n",
       "      <td>5.35</td>\n",
       "      <td>21.40</td>\n",
       "      <td>-15.020</td>\n",
       "    </tr>\n",
       "    <tr>\n",
       "      <th>1</th>\n",
       "      <td>2</td>\n",
       "      <td>3.28</td>\n",
       "      <td>6.56</td>\n",
       "      <td>-25.408</td>\n",
       "    </tr>\n",
       "    <tr>\n",
       "      <th>2</th>\n",
       "      <td>2</td>\n",
       "      <td>5.84</td>\n",
       "      <td>11.68</td>\n",
       "      <td>-21.824</td>\n",
       "    </tr>\n",
       "    <tr>\n",
       "      <th>3</th>\n",
       "      <td>3</td>\n",
       "      <td>3.56</td>\n",
       "      <td>10.68</td>\n",
       "      <td>-22.524</td>\n",
       "    </tr>\n",
       "    <tr>\n",
       "      <th>4</th>\n",
       "      <td>4</td>\n",
       "      <td>4.61</td>\n",
       "      <td>18.44</td>\n",
       "      <td>-17.092</td>\n",
       "    </tr>\n",
       "  </tbody>\n",
       "</table>\n",
       "</div>"
      ],
      "text/plain": [
       "                  Number_of_customers  Average_revenue_per_customer  \\\n",
       "Date Hour of Day                                                      \n",
       "3    0                              4                          5.35   \n",
       "     1                              2                          3.28   \n",
       "     2                              2                          5.84   \n",
       "     3                              3                          3.56   \n",
       "     4                              4                          4.61   \n",
       "\n",
       "                  Total_Revenue  Profit  \n",
       "Date Hour of Day                         \n",
       "3    0                    21.40 -15.020  \n",
       "     1                     6.56 -25.408  \n",
       "     2                    11.68 -21.824  \n",
       "     3                    10.68 -22.524  \n",
       "     4                    18.44 -17.092  "
      ]
     },
     "execution_count": 67,
     "metadata": {},
     "output_type": "execute_result"
    }
   ],
   "source": [
    "#Visualizing the Data With Date!!\n",
    "\n",
    "day_hour = df_bakery.groupby(['Date','Hour of Day']).sum()\n",
    "day_hour.head()"
   ]
  },
  {
   "cell_type": "code",
   "execution_count": 70,
   "metadata": {
    "collapsed": false
   },
   "outputs": [
    {
     "data": {
      "image/png": "[encoded data removed]",
      "text/plain": [
       "<matplotlib.figure.Figure at 0xc500d30>"
      ]
     },
     "metadata": {},
     "output_type": "display_data"
    }
   ],
   "source": [
    "day_hour.plot(y=['Total_Revenue'])\n",
    "plt.savefig(\"Customers_per_day_per_hour\")"
   ]
  },
  {
   "cell_type": "code",
   "execution_count": null,
   "metadata": {
    "collapsed": true
   },
   "outputs": [],
   "source": []
  }
 ],
 "metadata": {
  "kernelspec": {
   "display_name": "Python 2",
   "language": "python",
   "name": "python2"
  },
  "language_info": {
   "codemirror_mode": {
    "name": "ipython",
    "version": 2
   },
   "file_extension": ".py",
   "mimetype": "text/x-python",
   "name": "python",
   "nbconvert_exporter": "python",
   "pygments_lexer": "ipython2",
   "version": "2.7.11"
  }
 },
 "nbformat": 4,
 "nbformat_minor": 0
}
